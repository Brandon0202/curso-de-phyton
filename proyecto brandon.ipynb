{
 "cells": [
  {
   "cell_type": "code",
   "execution_count": 1,
   "id": "ae411903",
   "metadata": {},
   "outputs": [
    {
     "name": "stdout",
     "output_type": "stream",
     "text": [
      "\n",
      "BBBB\n",
      "B   B \n",
      "B   B\n",
      "BBBB\n",
      "B   B\n",
      "B   B\n",
      "BBBB\n",
      "\n",
      "M   M\n",
      "MM MM\n",
      "MM MM\n",
      "M M M\n",
      "M   M\n",
      "M   M\n",
      "M   M\n"
     ]
    }
   ],
   "source": [
    "#Brandon Moncada Moncada  \n",
    "Nombre =\"\"\"\n",
    "BBBB\n",
    "B   B \n",
    "B   B\n",
    "BBBB\n",
    "B   B\n",
    "B   B\n",
    "BBBB\n",
    "\n",
    "M   M\n",
    "MM MM\n",
    "MM MM\n",
    "M M M\n",
    "M   M\n",
    "M   M\n",
    "M   M\"\"\"\n",
    "\n",
    "print(Nombre)"
   ]
  },
  {
   "cell_type": "code",
   "execution_count": 2,
   "id": "72382e08",
   "metadata": {},
   "outputs": [
    {
     "name": "stdout",
     "output_type": "stream",
     "text": [
      "\n",
      "      PHHH\n",
      "      P   H\n",
      "      PHHH\n",
      "      P\n",
      " MMMMMMMMMMMM  \n",
      "M            M\n",
      "M            M\n",
      "M            M\n",
      "M            M\n",
      "M            M\n",
      "M            M\n",
      " MMMMMMMMMMMM\n",
      " \n"
     ]
    }
   ],
   "source": [
    "#Mandarina\n",
    "\n",
    "Fruta=\"\"\"\n",
    "      PHHH\n",
    "      P   H\n",
    "      PHHH\n",
    "      P\n",
    " MMMMMMMMMMMM  \n",
    "M            M\n",
    "M            M\n",
    "M            M\n",
    "M            M\n",
    "M            M\n",
    "M            M\n",
    " MMMMMMMMMMMM\n",
    " \"\"\"\n",
    "        \n",
    "print(Fruta)"
   ]
  },
  {
   "cell_type": "code",
   "execution_count": 3,
   "id": "31c3a84b",
   "metadata": {},
   "outputs": [],
   "source": [
    "#Lovely Loveseat\n",
    "lovely_loveseat_description=\"\"\"\n",
    "\\nLovely Loveseat. \n",
    "Tufted polyester blend on wood. \n",
    "32 inches high x 40 inches wide x 30 inches deep. \n",
    "Red or white\"\"\"\n",
    "\n",
    "lovely_loveseat_price =254.00\n",
    "\n",
    "styling_settee_description=\"\"\"Stylish Settee. \n",
    "Faux leather on birch. \n",
    "29.50 inches high x 54.75 inches wide x 28 inches deep. \n",
    "Black\"\"\"\n",
    "style_settee_price =180.50\n",
    "luxurious_lamp_description=\"\"\"\\n\\nLuxurious Lamp. \n",
    "Glass and iron. 36 inches tall. \n",
    "Brown with cream shade.\n",
    "\"\"\"\n",
    "\n",
    "luxurious_lamp_price=52.15\n",
    "sales_tax = 0.088\n"
   ]
  },
  {
   "cell_type": "code",
   "execution_count": 4,
   "id": "daaaf3c0",
   "metadata": {},
   "outputs": [],
   "source": [
    "#-- Our First Customer -\n",
    "\n",
    "customer_one_total =0\n",
    "customer_one_itemization =\"\"\n"
   ]
  },
  {
   "cell_type": "code",
   "execution_count": 5,
   "id": "c6b4887c",
   "metadata": {},
   "outputs": [],
   "source": [
    "customer_one_total=lovely_loveseat_price + luxurious_lamp_price"
   ]
  },
  {
   "cell_type": "code",
   "execution_count": 6,
   "id": "fc634adf",
   "metadata": {},
   "outputs": [],
   "source": [
    "customer_one_itemization= lovely_loveseat_description + \" \" + luxurious_lamp_description"
   ]
  },
  {
   "cell_type": "code",
   "execution_count": 7,
   "id": "3b693ffe",
   "metadata": {},
   "outputs": [],
   "source": [
    "customer_one_tax= customer_one_total * sales_tax\n",
    "customer_one_total += customer_one_tax"
   ]
  },
  {
   "cell_type": "code",
   "execution_count": 8,
   "id": "2f89d440",
   "metadata": {},
   "outputs": [
    {
     "name": "stdout",
     "output_type": "stream",
     "text": [
      "Customer One Items:\n",
      "\n",
      "\n",
      "Lovely Loveseat. \n",
      "Tufted polyester blend on wood. \n",
      "32 inches high x 40 inches wide x 30 inches deep. \n",
      "Red or white \n",
      "\n",
      "Luxurious Lamp. \n",
      "Glass and iron. 36 inches tall. \n",
      "Brown with cream shade.\n",
      "\n",
      "333.09119999999996\n"
     ]
    }
   ],
   "source": [
    "print(\"Customer One Items:\")\n",
    "print(customer_one_itemization)\n",
    "print(customer_one_total)"
   ]
  },
  {
   "cell_type": "code",
   "execution_count": null,
   "id": "0a6cccd7",
   "metadata": {},
   "outputs": [],
   "source": [
    "\n"
   ]
  },
  {
   "cell_type": "code",
   "execution_count": null,
   "id": "af8d1aaf",
   "metadata": {},
   "outputs": [],
   "source": []
  },
  {
   "cell_type": "code",
   "execution_count": 9,
   "id": "4d14c04c",
   "metadata": {},
   "outputs": [],
   "source": [
    "#Our Second Customer\n",
    "\n"
   ]
  },
  {
   "cell_type": "code",
   "execution_count": 10,
   "id": "5d209255",
   "metadata": {},
   "outputs": [],
   "source": [
    "customer_two_total= 0\n",
    "customer_two_itemization= \"\"\n"
   ]
  },
  {
   "cell_type": "code",
   "execution_count": 11,
   "id": "5660c2b5",
   "metadata": {},
   "outputs": [],
   "source": [
    "customer_two_total+=style_settee_price\n",
    "customer_two_itemization += styling_settee_description"
   ]
  },
  {
   "cell_type": "code",
   "execution_count": 12,
   "id": "68511316",
   "metadata": {},
   "outputs": [],
   "source": [
    "discount_porcentaje_lamp= 0.2\n",
    "discont_porcentaje_lovely= 0.15"
   ]
  },
  {
   "cell_type": "code",
   "execution_count": 13,
   "id": "10898faf",
   "metadata": {},
   "outputs": [],
   "source": [
    "discount_lamp=luxurious_lamp_price * discount_porcentaje_lamp\n",
    "discount_lovely=lovely_loveseat_price * discont_porcentaje_lovely"
   ]
  },
  {
   "cell_type": "code",
   "execution_count": 14,
   "id": "7e22d9e2",
   "metadata": {},
   "outputs": [],
   "source": [
    "\n",
    "customer_two_total+= (luxurious_lamp_price*2) + (luxurious_lamp_price-discount_lamp)\n",
    "price_with_discount= lovely_loveseat_price-discount_lovely\n",
    "customer_two_total += price_with_discount*5"
   ]
  },
  {
   "cell_type": "code",
   "execution_count": 15,
   "id": "4e80287a",
   "metadata": {},
   "outputs": [],
   "source": [
    "\n",
    "customer_two_itemization+= luxurious_lamp_description + lovely_loveseat_description\n"
   ]
  },
  {
   "cell_type": "code",
   "execution_count": 16,
   "id": "b5939f6f",
   "metadata": {},
   "outputs": [],
   "source": [
    "customer_two_tax= customer_two_total * sales_tax \n",
    "customer_two_total += customer_two_tax\n"
   ]
  },
  {
   "cell_type": "code",
   "execution_count": 27,
   "id": "c69d2d33",
   "metadata": {},
   "outputs": [
    {
     "name": "stdout",
     "output_type": "stream",
     "text": [
      "customer two items:\n",
      "Stylish Settee. \n",
      "Faux leather on birch. \n",
      "29.50 inches high x 54.75 inches wide x 28 inches deep. \n",
      "Black\n",
      "\n",
      "Luxurious Lamp. \n",
      "Glass and iron. 36 inches tall. \n",
      "Brown with cream shade.\n",
      "\n",
      "\n",
      "Lovely Loveseat. \n",
      "Tufted polyester blend on wood. \n",
      "32 inches high x 40 inches wide x 30 inches deep. \n",
      "Red or white\n",
      "\n",
      "1529.74976\n"
     ]
    }
   ],
   "source": [
    "print(\"customer two items:\")\n",
    "print(customer_two_itemization)\n",
    "print(\"\")\n",
    "print(customer_two_total)"
   ]
  },
  {
   "cell_type": "code",
   "execution_count": null,
   "id": "12ecd299",
   "metadata": {},
   "outputs": [],
   "source": []
  },
  {
   "cell_type": "code",
   "execution_count": null,
   "id": "e16cb07c",
   "metadata": {},
   "outputs": [],
   "source": []
  },
  {
   "cell_type": "code",
   "execution_count": null,
   "id": "82afa157",
   "metadata": {},
   "outputs": [],
   "source": []
  }
 ],
 "metadata": {
  "kernelspec": {
   "display_name": "Python 3 (ipykernel)",
   "language": "python",
   "name": "python3"
  },
  "language_info": {
   "codemirror_mode": {
    "name": "ipython",
    "version": 3
   },
   "file_extension": ".py",
   "mimetype": "text/x-python",
   "name": "python",
   "nbconvert_exporter": "python",
   "pygments_lexer": "ipython3",
   "version": "3.9.12"
  }
 },
 "nbformat": 4,
 "nbformat_minor": 5
}
